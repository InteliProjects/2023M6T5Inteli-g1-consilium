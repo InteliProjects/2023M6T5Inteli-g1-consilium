{
 "cells": [
  {
   "cell_type": "code",
   "execution_count": 9,
   "metadata": {},
   "outputs": [],
   "source": [
    "import pandas as pd"
   ]
  },
  {
   "cell_type": "code",
   "execution_count": 2,
   "metadata": {},
   "outputs": [],
   "source": [
    "df_servicos = pd.read_csv(\"../dados/servico_setembro_pr_maringa.txt\")\n",
    "df_tecnicos = pd.read_csv(\"../dados/tecnicos_setor_pr_maringa.txt\", sep=\";\")"
   ]
  },
  {
   "cell_type": "markdown",
   "metadata": {},
   "source": [
    "# Serviços"
   ]
  },
  {
   "cell_type": "code",
   "execution_count": 3,
   "metadata": {},
   "outputs": [
    {
     "data": {
      "text/plain": [
       "(1394, 16)"
      ]
     },
     "execution_count": 3,
     "metadata": {},
     "output_type": "execute_result"
    }
   ],
   "source": [
    "df_servicos.shape"
   ]
  },
  {
   "cell_type": "code",
   "execution_count": 4,
   "metadata": {},
   "outputs": [
    {
     "data": {
      "text/html": [
       "<div>\n",
       "<style scoped>\n",
       "    .dataframe tbody tr th:only-of-type {\n",
       "        vertical-align: middle;\n",
       "    }\n",
       "\n",
       "    .dataframe tbody tr th {\n",
       "        vertical-align: top;\n",
       "    }\n",
       "\n",
       "    .dataframe thead th {\n",
       "        text-align: right;\n",
       "    }\n",
       "</style>\n",
       "<table border=\"1\" class=\"dataframe\">\n",
       "  <thead>\n",
       "    <tr style=\"text-align: right;\">\n",
       "      <th></th>\n",
       "      <th>ba</th>\n",
       "      <th>uf</th>\n",
       "      <th>municipio</th>\n",
       "      <th>matricula_tecnico</th>\n",
       "      <th>id_venda</th>\n",
       "      <th>setor</th>\n",
       "      <th>dt_abertura_ba</th>\n",
       "      <th>dt_inicio_execucao</th>\n",
       "      <th>dt_fim_execucao</th>\n",
       "      <th>instalado</th>\n",
       "      <th>logradouro</th>\n",
       "      <th>numero</th>\n",
       "      <th>bairro</th>\n",
       "      <th>cep</th>\n",
       "      <th>latitude</th>\n",
       "      <th>longitude</th>\n",
       "    </tr>\n",
       "  </thead>\n",
       "  <tbody>\n",
       "    <tr>\n",
       "      <th>0</th>\n",
       "      <td>SA-3461636</td>\n",
       "      <td>PR</td>\n",
       "      <td>MARINGA</td>\n",
       "      <td>EXTERNO</td>\n",
       "      <td>8ED9C85A98912778786B 0001</td>\n",
       "      <td>PR.MGA.MGA.11</td>\n",
       "      <td>2023-09-15 18:38:18.000000 UTC</td>\n",
       "      <td>2023-09-18 15:56:58.000000 UTC</td>\n",
       "      <td>2023-09-18 16:56:58.000000 UTC</td>\n",
       "      <td>NAO</td>\n",
       "      <td>RUA PIONEIRO JOSÉ POPPI</td>\n",
       "      <td>453</td>\n",
       "      <td>PARQUE RESIDENCIAL ELDORADO</td>\n",
       "      <td>87025590</td>\n",
       "      <td>-23.391438</td>\n",
       "      <td>-51.923936</td>\n",
       "    </tr>\n",
       "    <tr>\n",
       "      <th>1</th>\n",
       "      <td>SA-3430495</td>\n",
       "      <td>PR</td>\n",
       "      <td>MARINGA</td>\n",
       "      <td>EXTERNO</td>\n",
       "      <td>83BCC0DE52E0A2505695 0000</td>\n",
       "      <td>PR.MGA.MGA.11</td>\n",
       "      <td>2023-09-14 12:17:34.000000 UTC</td>\n",
       "      <td>2023-09-15 15:41:42.000000 UTC</td>\n",
       "      <td>2023-09-15 16:41:42.000000 UTC</td>\n",
       "      <td>NAO</td>\n",
       "      <td>RUA VEREADOR ARLINDO DE SOUZA</td>\n",
       "      <td>270</td>\n",
       "      <td>JARDIM MONTE CARLO</td>\n",
       "      <td>87080380</td>\n",
       "      <td>-23.410854</td>\n",
       "      <td>-51.958371</td>\n",
       "    </tr>\n",
       "  </tbody>\n",
       "</table>\n",
       "</div>"
      ],
      "text/plain": [
       "           ba  uf municipio matricula_tecnico                   id_venda  \\\n",
       "0  SA-3461636  PR   MARINGA           EXTERNO  8ED9C85A98912778786B 0001   \n",
       "1  SA-3430495  PR   MARINGA           EXTERNO  83BCC0DE52E0A2505695 0000   \n",
       "\n",
       "           setor                  dt_abertura_ba  \\\n",
       "0  PR.MGA.MGA.11  2023-09-15 18:38:18.000000 UTC   \n",
       "1  PR.MGA.MGA.11  2023-09-14 12:17:34.000000 UTC   \n",
       "\n",
       "               dt_inicio_execucao                 dt_fim_execucao instalado  \\\n",
       "0  2023-09-18 15:56:58.000000 UTC  2023-09-18 16:56:58.000000 UTC       NAO   \n",
       "1  2023-09-15 15:41:42.000000 UTC  2023-09-15 16:41:42.000000 UTC       NAO   \n",
       "\n",
       "                      logradouro  numero                       bairro  \\\n",
       "0        RUA PIONEIRO JOSÉ POPPI     453  PARQUE RESIDENCIAL ELDORADO   \n",
       "1  RUA VEREADOR ARLINDO DE SOUZA     270           JARDIM MONTE CARLO   \n",
       "\n",
       "        cep   latitude  longitude  \n",
       "0  87025590 -23.391438 -51.923936  \n",
       "1  87080380 -23.410854 -51.958371  "
      ]
     },
     "execution_count": 4,
     "metadata": {},
     "output_type": "execute_result"
    }
   ],
   "source": [
    "df_servicos.head(2)"
   ]
  },
  {
   "cell_type": "markdown",
   "metadata": {},
   "source": [
    "# Técnicos"
   ]
  },
  {
   "cell_type": "code",
   "execution_count": 5,
   "metadata": {},
   "outputs": [
    {
     "data": {
      "text/plain": [
       "(46, 4)"
      ]
     },
     "execution_count": 5,
     "metadata": {},
     "output_type": "execute_result"
    }
   ],
   "source": [
    "df_tecnicos.shape"
   ]
  },
  {
   "cell_type": "code",
   "execution_count": 6,
   "metadata": {},
   "outputs": [
    {
     "data": {
      "text/html": [
       "<div>\n",
       "<style scoped>\n",
       "    .dataframe tbody tr th:only-of-type {\n",
       "        vertical-align: middle;\n",
       "    }\n",
       "\n",
       "    .dataframe tbody tr th {\n",
       "        vertical-align: top;\n",
       "    }\n",
       "\n",
       "    .dataframe thead th {\n",
       "        text-align: right;\n",
       "    }\n",
       "</style>\n",
       "<table border=\"1\" class=\"dataframe\">\n",
       "  <thead>\n",
       "    <tr style=\"text-align: right;\">\n",
       "      <th></th>\n",
       "      <th>uf</th>\n",
       "      <th>municipio</th>\n",
       "      <th>matricula_tecnico</th>\n",
       "      <th>setor</th>\n",
       "    </tr>\n",
       "  </thead>\n",
       "  <tbody>\n",
       "    <tr>\n",
       "      <th>0</th>\n",
       "      <td>PR</td>\n",
       "      <td>MARINGA</td>\n",
       "      <td>TR002403</td>\n",
       "      <td>PR.MGA.MGA.11</td>\n",
       "    </tr>\n",
       "    <tr>\n",
       "      <th>1</th>\n",
       "      <td>PR</td>\n",
       "      <td>MARINGA</td>\n",
       "      <td>TR002513</td>\n",
       "      <td>PR.MGA.MGA.11</td>\n",
       "    </tr>\n",
       "  </tbody>\n",
       "</table>\n",
       "</div>"
      ],
      "text/plain": [
       "   uf municipio matricula_tecnico          setor\n",
       "0  PR   MARINGA          TR002403  PR.MGA.MGA.11\n",
       "1  PR   MARINGA          TR002513  PR.MGA.MGA.11"
      ]
     },
     "execution_count": 6,
     "metadata": {},
     "output_type": "execute_result"
    }
   ],
   "source": [
    "df_tecnicos.head(2)"
   ]
  },
  {
   "cell_type": "markdown",
   "metadata": {},
   "source": [
    "# Conclusões"
   ]
  },
  {
   "cell_type": "code",
   "execution_count": 7,
   "metadata": {},
   "outputs": [
    {
     "name": "stdout",
     "output_type": "stream",
     "text": [
      "Número de técnicos: 46\n"
     ]
    }
   ],
   "source": [
    "print(\"Número de técnicos: \" + str(df_tecnicos.shape[0]))"
   ]
  },
  {
   "cell_type": "code",
   "execution_count": 8,
   "metadata": {},
   "outputs": [
    {
     "name": "stdout",
     "output_type": "stream",
     "text": [
      "Média de serviços que um técnico faz por mês: 30.30\n"
     ]
    }
   ],
   "source": [
    "print(\"Média de serviços que um técnico faz por mês: \" + str(df_servicos.shape[0] / df_tecnicos.shape[0])[:5])"
   ]
  },
  {
   "cell_type": "markdown",
   "metadata": {},
   "source": [
    "A produtividade em Maringá aparenta ser mais do que o dobro da produtividade em Curitiba.\n"
   ]
  }
 ],
 "metadata": {
  "kernelspec": {
   "display_name": "Python 3",
   "language": "python",
   "name": "python3"
  },
  "language_info": {
   "codemirror_mode": {
    "name": "ipython",
    "version": 3
   },
   "file_extension": ".py",
   "mimetype": "text/x-python",
   "name": "python",
   "nbconvert_exporter": "python",
   "pygments_lexer": "ipython3",
   "version": "3.9.6"
  }
 },
 "nbformat": 4,
 "nbformat_minor": 2
}
