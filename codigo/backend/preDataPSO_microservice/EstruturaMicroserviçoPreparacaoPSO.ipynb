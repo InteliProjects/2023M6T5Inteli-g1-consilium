{
  "cells": [
    {
      "cell_type": "code",
      "execution_count": 1,
      "metadata": {
        "colab": {
          "base_uri": "https://localhost:8080/"
        },
        "id": "B8EKzuX_11T8",
        "outputId": "b8bec7cd-45a5-4440-c516-1fac23267ddd"
      },
      "outputs": [
        {
          "name": "stdout",
          "output_type": "stream",
          "text": [
            "Collecting openrouteservice\n",
            "  Downloading openrouteservice-2.3.3-py3-none-any.whl (33 kB)\n",
            "Requirement already satisfied: requests>=2.0 in /usr/local/lib/python3.10/dist-packages (from openrouteservice) (2.31.0)\n",
            "Requirement already satisfied: charset-normalizer<4,>=2 in /usr/local/lib/python3.10/dist-packages (from requests>=2.0->openrouteservice) (3.3.2)\n",
            "Requirement already satisfied: idna<4,>=2.5 in /usr/local/lib/python3.10/dist-packages (from requests>=2.0->openrouteservice) (3.4)\n",
            "Requirement already satisfied: urllib3<3,>=1.21.1 in /usr/local/lib/python3.10/dist-packages (from requests>=2.0->openrouteservice) (2.0.7)\n",
            "Requirement already satisfied: certifi>=2017.4.17 in /usr/local/lib/python3.10/dist-packages (from requests>=2.0->openrouteservice) (2023.7.22)\n",
            "Installing collected packages: openrouteservice\n",
            "Successfully installed openrouteservice-2.3.3\n"
          ]
        }
      ],
      "source": [
        "!pip install openrouteservice"
      ]
    },
    {
      "cell_type": "code",
      "execution_count": 2,
      "metadata": {
        "colab": {
          "base_uri": "https://localhost:8080/"
        },
        "id": "cJ-6v80k2BD3",
        "outputId": "ff013a19-1e3d-4b15-d6bb-e6f3ffb5b964"
      },
      "outputs": [
        {
          "name": "stdout",
          "output_type": "stream",
          "text": [
            "{'bbox': [8.327725, 48.231953, 8.345244, 48.263552], 'metadata': {'attribution': 'openrouteservice.org | OpenStreetMap contributors', 'service': 'routing', 'timestamp': 1700654412128, 'query': {'coordinates': [[8.34234, 48.23424], [8.34423, 48.26424]], 'profile': 'driving-car', 'format': 'json'}, 'engine': {'version': '7.1.0', 'build_date': '2023-07-09T01:31:50Z', 'graph_date': '2023-11-19T15:25:49Z'}}, 'routes': [{'summary': {'distance': 5477.4, 'duration': 803.6}, 'segments': [{'distance': 5477.4, 'duration': 803.6, 'steps': [{'distance': 247.2, 'duration': 59.3, 'type': 11, 'instruction': 'Head south on Benatweg', 'name': 'Benatweg', 'way_points': [0, 8]}, {'distance': 51.8, 'duration': 12.4, 'type': 6, 'instruction': 'Continue straight onto Benatweg', 'name': 'Benatweg', 'way_points': [8, 10]}, {'distance': 1684.0, 'duration': 134.7, 'type': 1, 'instruction': 'Turn right onto Hölzle, K 5528', 'name': 'Hölzle, K 5528', 'way_points': [10, 64]}, {'distance': 263.7, 'duration': 31.6, 'type': 1, 'instruction': 'Turn right', 'name': '-', 'way_points': [64, 73]}, {'distance': 301.9, 'duration': 36.2, 'type': 0, 'instruction': 'Turn left', 'name': '-', 'way_points': [73, 85]}, {'distance': 535.6, 'duration': 64.3, 'type': 0, 'instruction': 'Turn left', 'name': '-', 'way_points': [85, 96]}, {'distance': 248.1, 'duration': 29.8, 'type': 13, 'instruction': 'Keep right', 'name': '-', 'way_points': [96, 104]}, {'distance': 286.6, 'duration': 51.6, 'type': 1, 'instruction': 'Turn right', 'name': '-', 'way_points': [104, 112]}, {'distance': 257.5, 'duration': 46.4, 'type': 12, 'instruction': 'Keep left', 'name': '-', 'way_points': [112, 118]}, {'distance': 357.9, 'duration': 64.4, 'type': 13, 'instruction': 'Keep right', 'name': '-', 'way_points': [118, 128]}, {'distance': 12.1, 'duration': 2.9, 'type': 6, 'instruction': 'Continue straight', 'name': '-', 'way_points': [128, 129]}, {'distance': 573.2, 'duration': 112.1, 'type': 12, 'instruction': 'Keep left', 'name': '-', 'way_points': [129, 145]}, {'distance': 37.6, 'duration': 9.0, 'type': 0, 'instruction': 'Turn left', 'name': '-', 'way_points': [145, 147]}, {'distance': 469.9, 'duration': 112.8, 'type': 12, 'instruction': 'Keep left', 'name': '-', 'way_points': [147, 161]}, {'distance': 150.3, 'duration': 36.1, 'type': 2, 'instruction': 'Turn sharp left', 'name': '-', 'way_points': [161, 165]}, {'distance': 0.0, 'duration': 0.0, 'type': 10, 'instruction': 'Arrive at your destination, on the right', 'name': '-', 'way_points': [165, 165]}]}], 'bbox': [8.327725, 48.231953, 8.345244, 48.263552], 'geometry': 'mtkeHuv|q@~@VhAf@PR|@hBt@j@^n@L\\\\NjAX`BNXqAlFM^kArAoAfBs@^WFY?{Be@[?WJWRi@t@Q^]`AQRULoAPWHOL]h@mA`C_@d@oAdAkCrBc@Ra@HQByBAsAH[FWH[TaA~@aAj@[J]@aAKM?WN_@h@yCrFW\\\\wAx@WTWXQZ_@fAMPUPWJuAVw@XiAh@URYOMGM[kAkEYiB]}@s@sASWUOaA`Bs@j@MPi@pBU^Y\\\\u@v@QL[PW@WEu@[GXoArEiAlCwBfG[p@a@l@g@f@_Ah@mAn@{@V}A\\\\wATU@UEoAe@g@MaAMaACu@Uk@kE[oAU{A]w@i@}@USwAy@OOy@iAu@c@m@Ok@A{BJmBXqBkBsA}@{Ao@eB@]GKIMKO_@a@_CSo@I]u@sCQc@kAyBWS_@SaAE{@yAu@mDUsAqA}@EM@QTiA|@iAn@gAd@eAg@_@I]k@i@yBkEa@}@W}@WkCUqC?_@Hg@ZqABg@Gm@YoAEgAMq@DhFC`@{@rACH', 'way_points': [0, 165], 'legs': []}]}\n"
          ]
        }
      ],
      "source": [
        "import openrouteservice\n",
        "\n",
        "coords = ((8.34234,48.23424),(8.34423,48.26424))\n",
        "\n",
        "client = openrouteservice.Client(key='5b3ce3597851110001cf62485b9d93cb553447258f757abe599113ab') # Specify your personal API key\n",
        "routes = client.directions(coords)\n",
        "\n",
        "print(routes)"
      ]
    },
    {
      "cell_type": "code",
      "execution_count": 3,
      "metadata": {
        "colab": {
          "base_uri": "https://localhost:8080/"
        },
        "id": "VW6E7UlrUuxa",
        "outputId": "ce836260-ad38-4cfd-d471-40fbe9199a12"
      },
      "outputs": [
        {
          "name": "stdout",
          "output_type": "stream",
          "text": [
            "260.3\n"
          ]
        }
      ],
      "source": [
        "import requests\n",
        "\n",
        "# Substitua a URL abaixo pela URL do seu serviço OSRM\n",
        "url = 'http://router.project-osrm.org/route/v1/driving/'\n",
        "\n",
        "# Substitua as coordenadas pelos pontos que você deseja rotear\n",
        "coordinates = '13.388860,52.517037;13.397634,52.529407;13.428555,52.523219'\n",
        "\n",
        "# Construa a URL completa\n",
        "full_url = f'{url}{coordinates}'\n",
        "\n",
        "# Faça a requisição HTTP\n",
        "response = requests.get(full_url)\n",
        "\n",
        "# Verifique se a requisição foi bem-sucedida (código de status HTTP 200)\n",
        "if response.status_code == 200:\n",
        "    # Converta a resposta para JSON\n",
        "    data = response.json()\n",
        "    # Faça o que quiser com os dados da rota\n",
        "    print(data['routes'][0]['legs'][0]['duration'])\n",
        "else:\n",
        "    # Imprima uma mensagem de erro se a requisição falhar\n",
        "    print(f'Erro na requisição: {response.status_code}')\n",
        "    print(response.text)"
      ]
    },
    {
      "cell_type": "code",
      "execution_count": 4,
      "metadata": {
        "colab": {
          "base_uri": "https://localhost:8080/"
        },
        "id": "q0zdVeJM9OVI",
        "outputId": "9f841720-12bb-402a-e5d0-908cc8ce5fc0"
      },
      "outputs": [
        {
          "name": "stdout",
          "output_type": "stream",
          "text": [
            "A distância entre os pontos é 3.338781888814991\n"
          ]
        }
      ],
      "source": [
        "from math import radians, sin, cos, sqrt, atan2\n",
        "\n",
        "def haversine_distance(coord1, coord2):\n",
        "    R = 6371.0\n",
        "\n",
        "    # Converte as coordenadas de graus para radianos\n",
        "    lat1, lon1 = radians(coord1[1]), radians(coord1[0])\n",
        "    lat2, lon2 = radians(coord2[1]), radians(coord2[0])\n",
        "\n",
        "    # Diferença nas coordenadas\n",
        "    dlon = lon2 - lon1\n",
        "    dlat = lat2 - lat1\n",
        "\n",
        "    # Fórmula de Haversine\n",
        "    a = sin(dlat / 2)**2 + cos(lat1) * cos(lat2) * sin(dlon / 2)**2\n",
        "    c = 2 * atan2(sqrt(a), sqrt(1 - a))\n",
        "\n",
        "    # Distância em quilômetros\n",
        "    distance = R * c\n",
        "\n",
        "    return distance\n",
        "\n",
        "coords = ((8.34234, 48.23424), (8.34423, 48.26424))\n",
        "\n",
        "distance = haversine_distance(coords[0], coords[1])\n",
        "\n",
        "print(f'A distância entre os pontos é {distance}')"
      ]
    },
    {
      "cell_type": "code",
      "execution_count": 5,
      "metadata": {
        "id": "0eOBwHiAv_yQ"
      },
      "outputs": [],
      "source": [
        "import pandas as pd\n",
        "\n",
        "df_curitiba_tecnicos = pd.read_csv('/content/Ponto de Partida_Tecnicos-2023-11-06-20-00-15.xlsx - Tecnicos Universitarios (1).csv')\n",
        "df_curitiba_inicial = pd.read_csv('/content/servicos_setembro_pr_curitiba.txt') "
      ]
    },
    {
      "cell_type": "code",
      "execution_count": 7,
      "metadata": {
        "id": "kOea74in1I7d"
      },
      "outputs": [],
      "source": [
        "df_curitiba_inicial['dt_abertura_ba'] = pd.to_datetime(df_curitiba_inicial['dt_abertura_ba'])\n",
        "novo_dataset = df_curitiba_inicial[df_curitiba_inicial['dt_abertura_ba'].dt.date == pd.to_datetime('2023-09-15').date()]"
      ]
    },
    {
      "cell_type": "code",
      "execution_count": 9,
      "metadata": {
        "id": "Fj54zs6BwqAH"
      },
      "outputs": [],
      "source": [
        "df_curitiba_tecnicos = df_curitiba_tecnicos.query(\"Cidade == 'Curitiba'\")\n",
        "df_tecnicos = df_curitiba_tecnicos[['Nome','Latitude', 'Longitude']]"
      ]
    },
    {
      "cell_type": "markdown",
      "metadata": {
        "id": "T4V3AYrS3rdT"
      },
      "source": [
        "#Resultados Output\n"
      ]
    },
    {
      "cell_type": "code",
      "execution_count": 10,
      "metadata": {
        "colab": {
          "base_uri": "https://localhost:8080/"
        },
        "id": "M4ZupWGl3V-d",
        "outputId": "7258c4ac-4de9-4acb-9d7e-0a6d96a4f938"
      },
      "outputs": [
        {
          "data": {
            "text/plain": [
              "12"
            ]
          },
          "execution_count": 10,
          "metadata": {},
          "output_type": "execute_result"
        }
      ],
      "source": [
        "#número de setores\n",
        "\n",
        "df_pedidos.setor.unique().size"
      ]
    },
    {
      "cell_type": "code",
      "execution_count": 11,
      "metadata": {
        "colab": {
          "base_uri": "https://localhost:8080/"
        },
        "id": "G4tcJnKp3xLI",
        "outputId": "c352fe3c-e159-4392-bb45-e6ae1a642c88"
      },
      "outputs": [
        {
          "data": {
            "text/plain": [
              "[17, 38, 31, 46, 35, 18, 12, 64, 7, 43, 30, 27]"
            ]
          },
          "execution_count": 11,
          "metadata": {},
          "output_type": "execute_result"
        }
      ],
      "source": [
        "#quantidade de pedidos em cada setor\n",
        "\n",
        "qtd_pedidos_setores = []\n",
        "for setor in df_pedidos.setor.unique():\n",
        "  qtd_pedidos_setores.append(len(df_pedidos.query(f\"setor == '{setor}'\")))\n",
        "\n",
        "qtd_pedidos_setores"
      ]
    },
    {
      "cell_type": "code",
      "execution_count": 12,
      "metadata": {
        "colab": {
          "base_uri": "https://localhost:8080/"
        },
        "id": "0o47KFPX4hXj",
        "outputId": "1ce048cd-e415-4375-e1ba-45fbd92f1656"
      },
      "outputs": [
        {
          "data": {
            "text/plain": [
              "125"
            ]
          },
          "execution_count": 12,
          "metadata": {},
          "output_type": "execute_result"
        }
      ],
      "source": [
        "#quantitade de técnicos\n",
        "\n",
        "len(df_tecnicos)"
      ]
    },
    {
      "cell_type": "code",
      "execution_count": 17,
      "metadata": {
        "colab": {
          "base_uri": "https://localhost:8080/",
          "height": 1000
        },
        "id": "HS_ad3ak6Fe5",
        "outputId": "08e71350-7895-4c11-8d20-56bc14cadd5d"
      },
      "outputs": [
        {
          "name": "stdout",
          "output_type": "stream",
          "text": [
            "0.0\n",
            "995.4\n",
            "1400.2\n",
            "1091.0\n",
            "399.5\n",
            "1314.0\n",
            "667.0\n",
            "1491.3\n",
            "1025.6\n",
            "564.7\n",
            "948.9\n",
            "1596.1\n",
            "1256.2\n",
            "1334.5\n",
            "1240.2\n",
            "1028.0\n",
            "1279.5\n",
            "1494.5\n",
            "1348.5\n",
            "444.6\n",
            "865.8\n",
            "1597.1\n",
            "1421.1\n",
            "1749.2\n",
            "615.9\n",
            "1142.0\n",
            "1421.1\n",
            "1481.2\n",
            "1496.4\n",
            "1620.5\n",
            "1005.4\n",
            "981.6\n",
            "1242.1\n",
            "1448.7\n",
            "1053.4\n",
            "1173.7\n",
            "1040.8\n",
            "1116.6\n",
            "838.5\n",
            "754.3\n",
            "937.7\n",
            "853.8\n",
            "1205.0\n",
            "313.3\n",
            "249.9\n",
            "853.8\n",
            "1407.0\n",
            "1458.6\n",
            "1360.1\n",
            "1503.8\n",
            "1400.2\n",
            "154.8\n",
            "692.6\n",
            "358.1\n",
            "1129.1\n",
            "1423.5\n",
            "1430.9\n",
            "1010.9\n",
            "864.4\n",
            "1570.1\n",
            "1537.7\n",
            "910.1\n",
            "1303.4\n",
            "818.9\n",
            "1318.7\n",
            "1368.5\n",
            "1279.0\n",
            "1465.1\n",
            "1160.0\n",
            "1628.7\n",
            "897.9\n",
            "638.4\n",
            "1398.9\n",
            "843.2\n",
            "1253.6\n",
            "1438.0\n",
            "888.4\n",
            "1044.5\n",
            "1087.8\n",
            "1152.8\n",
            "1286.5\n",
            "1335.2\n",
            "538.5\n",
            "1636.7\n",
            "1620.0\n",
            "1001.9\n",
            "1142.0\n",
            "1749.2\n",
            "72.7\n",
            "212.5\n",
            "476.4\n",
            "609.3\n",
            "1173.7\n",
            "1012.5\n",
            "1133.7\n",
            "477.1\n",
            "235.3\n",
            "868.6\n",
            "1205.0\n",
            "1173.7\n",
            "937.7\n",
            "665.2\n",
            "1084.7\n",
            "1077.4\n",
            "1516.3\n",
            "1326.2\n",
            "1242.1\n",
            "1692.9\n",
            "1012.5\n",
            "1197.7\n",
            "1299.9\n",
            "1001.9\n",
            "1249.7\n",
            "1444.1\n",
            "1019.8\n",
            "1447.7\n",
            "1091.2\n",
            "1010.5\n",
            "965.2\n",
            "290.3\n",
            "839.7\n",
            "1279.3\n",
            "235.8\n",
            "1287.4\n",
            "1463.6\n",
            "1054.1\n",
            "0.0\n",
            "530.4\n",
            "1523.3\n",
            "1024.7\n",
            "444.2\n",
            "1430.3\n",
            "1056.6\n",
            "268.3\n",
            "964.7\n",
            "123.0\n",
            "1133.8\n",
            "1202.3\n",
            "418.0\n",
            "416.9\n",
            "284.3\n",
            "966.7\n",
            "779.9\n",
            "1035.7\n",
            "1031.3\n",
            "781.4\n",
            "1134.8\n",
            "568.0\n",
            "1379.1\n",
            "1101.8\n",
            "913.4\n",
            "568.0\n",
            "931.2\n",
            "1050.0\n",
            "1250.4\n",
            "248.6\n",
            "404.3\n",
            "749.9\n",
            "1063.0\n",
            "689.9\n",
            "1016.3\n",
            "779.6\n",
            "1598.8\n",
            "1128.2\n",
            "531.5\n",
            "1038.4\n",
            "790.0\n",
            "615.3\n",
            "1048.2\n",
            "1040.9\n",
            "790.0\n",
            "537.2\n",
            "588.8\n",
            "490.3\n",
            "1043.1\n",
            "530.4\n",
            "1139.4\n",
            "472.2\n",
            "1234.1\n",
            "336.5\n",
            "553.7\n",
            "1131.2\n",
            "141.1\n",
            "300.7\n",
            "767.2\n",
            "1152.0\n",
            "1392.3\n",
            "389.0\n",
            "341.2\n",
            "448.9\n",
            "1059.8\n",
            "409.2\n",
            "1118.1\n",
            "751.6\n",
            "1161.9\n",
            "1330.2\n",
            "568.8\n",
            "1105.5\n",
            "683.7\n",
            "546.2\n",
            "1052.3\n",
            "1370.6\n",
            "1476.8\n",
            "946.1\n",
            "1448.9\n",
            "416.7\n",
            "465.4\n",
            "1224.8\n",
            "1183.7\n",
            "1249.9\n",
            "252.1\n",
            "913.4\n",
            "1379.1\n",
            "1004.2\n",
            "941.5\n",
            "925.5\n",
            "1299.7\n",
            "1016.3\n",
            "1494.7\n",
            "750.9\n",
            "1212.9\n",
            "1057.9\n",
            "958.3\n",
            "615.3\n",
            "1016.3\n",
            "1038.4\n",
            "543.5\n",
            "1055.9\n",
            "1509.7\n",
            "801.7\n",
            "834.0\n",
            "749.9\n",
            "1322.8\n",
            "1494.7\n",
            "306.0\n",
            "447.5\n",
            "252.1\n",
            "379.9\n",
            "589.5\n",
            "193.9\n",
            "972.7\n",
            "1573.4\n",
            "1492.7\n",
            "1397.5\n",
            "883.3\n",
            "959.5\n",
            "909.2\n",
            "1059.4\n",
            "873.0\n",
            "1042.1\n",
            "1450.2\n",
            "535.0\n",
            "0.0\n",
            "1878.7\n",
            "1420.8\n",
            "142.8\n",
            "1826.4\n",
            "1047.2\n",
            "454.0\n",
            "1320.1\n",
            "534.5\n",
            "675.7\n",
            "1529.7\n",
            "282.6\n",
            "590.4\n",
            "613.4\n",
            "957.6\n",
            "346.5\n",
            "943.7\n",
            "1427.4\n",
            "1136.2\n",
            "676.7\n",
            "44.1\n",
            "950.4\n",
            "1262.7\n",
            "955.6\n",
            "44.1\n",
            "922.3\n",
            "1050.5\n",
            "911.3\n",
            "463.1\n",
            "725.7\n",
            "616.4\n",
            "717.1\n",
            "607.2\n",
            "1279.9\n",
            "1102.8\n",
            "1994.9\n",
            "1455.0\n",
            "949.6\n",
            "1365.2\n",
            "1139.4\n",
            "856.6\n",
            "1444.3\n",
            "1437.0\n",
            "1139.4\n",
            "242.8\n",
            "509.7\n",
            "436.8\n",
            "734.1\n",
            "0.0\n",
            "1535.5\n",
            "875.6\n",
            "1621.6\n",
            "395.8\n",
            "302.4\n",
            "1186.3\n",
            "414.6\n",
            "725.4\n",
            "802.2\n",
            "816.3\n",
            "1788.4\n",
            "331.1\n",
            "765.9\n",
            "172.5\n",
            "1068.8\n",
            "353.5\n",
            "934.8\n",
            "815.4\n",
            "703.8\n",
            "1685.6\n",
            "931.2\n",
            "1160.6\n",
            "946.3\n",
            "348.2\n",
            "716.6\n",
            "1766.7\n",
            "1832.2\n",
            "1030.7\n",
            "1775.7\n",
            "336.1\n",
            "638.9\n",
            "1606.1\n",
            "725.6\n",
            "910.8\n",
            "459.6\n",
            "955.6\n",
            "950.4\n",
            "1400.3\n",
            "1337.6\n",
            "1321.6\n",
            "1695.8\n",
            "1279.9\n",
            "1890.8\n",
            "668.5\n",
            "1609.0\n",
            "1454.0\n",
            "1072.4\n",
            "856.6\n",
            "1279.9\n",
            "1365.2\n",
            "946.9\n",
            "1382.7\n",
            "1865.1\n",
            "368.3\n",
            "700.5\n",
            "616.4\n",
            "896.8\n"
          ]
        },
        {
          "ename": "KeyboardInterrupt",
          "evalue": "ignored",
          "output_type": "error",
          "traceback": [
            "\u001b[0;31m---------------------------------------------------------------------------\u001b[0m",
            "\u001b[0;31mKeyboardInterrupt\u001b[0m                         Traceback (most recent call last)",
            "\u001b[0;32m<ipython-input-17-1a541ac69555>\u001b[0m in \u001b[0;36m<cell line: 11>\u001b[0;34m()\u001b[0m\n\u001b[1;32m     17\u001b[0m \u001b[0;34m\u001b[0m\u001b[0m\n\u001b[1;32m     18\u001b[0m           \u001b[0mfull_url\u001b[0m \u001b[0;34m=\u001b[0m \u001b[0;34mf'{url}{coordinates}'\u001b[0m\u001b[0;34m\u001b[0m\u001b[0;34m\u001b[0m\u001b[0m\n\u001b[0;32m---> 19\u001b[0;31m           \u001b[0mresponse\u001b[0m \u001b[0;34m=\u001b[0m \u001b[0mrequests\u001b[0m\u001b[0;34m.\u001b[0m\u001b[0mget\u001b[0m\u001b[0;34m(\u001b[0m\u001b[0mfull_url\u001b[0m\u001b[0;34m)\u001b[0m\u001b[0;34m\u001b[0m\u001b[0;34m\u001b[0m\u001b[0m\n\u001b[0m\u001b[1;32m     20\u001b[0m \u001b[0;34m\u001b[0m\u001b[0m\n\u001b[1;32m     21\u001b[0m           \u001b[0;32mif\u001b[0m \u001b[0mresponse\u001b[0m\u001b[0;34m.\u001b[0m\u001b[0mstatus_code\u001b[0m \u001b[0;34m==\u001b[0m \u001b[0;36m200\u001b[0m\u001b[0;34m:\u001b[0m\u001b[0;34m\u001b[0m\u001b[0;34m\u001b[0m\u001b[0m\n",
            "\u001b[0;32m/usr/local/lib/python3.10/dist-packages/requests/api.py\u001b[0m in \u001b[0;36mget\u001b[0;34m(url, params, **kwargs)\u001b[0m\n\u001b[1;32m     71\u001b[0m     \"\"\"\n\u001b[1;32m     72\u001b[0m \u001b[0;34m\u001b[0m\u001b[0m\n\u001b[0;32m---> 73\u001b[0;31m     \u001b[0;32mreturn\u001b[0m \u001b[0mrequest\u001b[0m\u001b[0;34m(\u001b[0m\u001b[0;34m\"get\"\u001b[0m\u001b[0;34m,\u001b[0m \u001b[0murl\u001b[0m\u001b[0;34m,\u001b[0m \u001b[0mparams\u001b[0m\u001b[0;34m=\u001b[0m\u001b[0mparams\u001b[0m\u001b[0;34m,\u001b[0m \u001b[0;34m**\u001b[0m\u001b[0mkwargs\u001b[0m\u001b[0;34m)\u001b[0m\u001b[0;34m\u001b[0m\u001b[0;34m\u001b[0m\u001b[0m\n\u001b[0m\u001b[1;32m     74\u001b[0m \u001b[0;34m\u001b[0m\u001b[0m\n\u001b[1;32m     75\u001b[0m \u001b[0;34m\u001b[0m\u001b[0m\n",
            "\u001b[0;32m/usr/local/lib/python3.10/dist-packages/requests/api.py\u001b[0m in \u001b[0;36mrequest\u001b[0;34m(method, url, **kwargs)\u001b[0m\n\u001b[1;32m     57\u001b[0m     \u001b[0;31m# cases, and look like a memory leak in others.\u001b[0m\u001b[0;34m\u001b[0m\u001b[0;34m\u001b[0m\u001b[0m\n\u001b[1;32m     58\u001b[0m     \u001b[0;32mwith\u001b[0m \u001b[0msessions\u001b[0m\u001b[0;34m.\u001b[0m\u001b[0mSession\u001b[0m\u001b[0;34m(\u001b[0m\u001b[0;34m)\u001b[0m \u001b[0;32mas\u001b[0m \u001b[0msession\u001b[0m\u001b[0;34m:\u001b[0m\u001b[0;34m\u001b[0m\u001b[0;34m\u001b[0m\u001b[0m\n\u001b[0;32m---> 59\u001b[0;31m         \u001b[0;32mreturn\u001b[0m \u001b[0msession\u001b[0m\u001b[0;34m.\u001b[0m\u001b[0mrequest\u001b[0m\u001b[0;34m(\u001b[0m\u001b[0mmethod\u001b[0m\u001b[0;34m=\u001b[0m\u001b[0mmethod\u001b[0m\u001b[0;34m,\u001b[0m \u001b[0murl\u001b[0m\u001b[0;34m=\u001b[0m\u001b[0murl\u001b[0m\u001b[0;34m,\u001b[0m \u001b[0;34m**\u001b[0m\u001b[0mkwargs\u001b[0m\u001b[0;34m)\u001b[0m\u001b[0;34m\u001b[0m\u001b[0;34m\u001b[0m\u001b[0m\n\u001b[0m\u001b[1;32m     60\u001b[0m \u001b[0;34m\u001b[0m\u001b[0m\n\u001b[1;32m     61\u001b[0m \u001b[0;34m\u001b[0m\u001b[0m\n",
            "\u001b[0;32m/usr/local/lib/python3.10/dist-packages/requests/sessions.py\u001b[0m in \u001b[0;36mrequest\u001b[0;34m(self, method, url, params, data, headers, cookies, files, auth, timeout, allow_redirects, proxies, hooks, stream, verify, cert, json)\u001b[0m\n\u001b[1;32m    587\u001b[0m         }\n\u001b[1;32m    588\u001b[0m         \u001b[0msend_kwargs\u001b[0m\u001b[0;34m.\u001b[0m\u001b[0mupdate\u001b[0m\u001b[0;34m(\u001b[0m\u001b[0msettings\u001b[0m\u001b[0;34m)\u001b[0m\u001b[0;34m\u001b[0m\u001b[0;34m\u001b[0m\u001b[0m\n\u001b[0;32m--> 589\u001b[0;31m         \u001b[0mresp\u001b[0m \u001b[0;34m=\u001b[0m \u001b[0mself\u001b[0m\u001b[0;34m.\u001b[0m\u001b[0msend\u001b[0m\u001b[0;34m(\u001b[0m\u001b[0mprep\u001b[0m\u001b[0;34m,\u001b[0m \u001b[0;34m**\u001b[0m\u001b[0msend_kwargs\u001b[0m\u001b[0;34m)\u001b[0m\u001b[0;34m\u001b[0m\u001b[0;34m\u001b[0m\u001b[0m\n\u001b[0m\u001b[1;32m    590\u001b[0m \u001b[0;34m\u001b[0m\u001b[0m\n\u001b[1;32m    591\u001b[0m         \u001b[0;32mreturn\u001b[0m \u001b[0mresp\u001b[0m\u001b[0;34m\u001b[0m\u001b[0;34m\u001b[0m\u001b[0m\n",
            "\u001b[0;32m/usr/local/lib/python3.10/dist-packages/requests/sessions.py\u001b[0m in \u001b[0;36msend\u001b[0;34m(self, request, **kwargs)\u001b[0m\n\u001b[1;32m    701\u001b[0m \u001b[0;34m\u001b[0m\u001b[0m\n\u001b[1;32m    702\u001b[0m         \u001b[0;31m# Send the request\u001b[0m\u001b[0;34m\u001b[0m\u001b[0;34m\u001b[0m\u001b[0m\n\u001b[0;32m--> 703\u001b[0;31m         \u001b[0mr\u001b[0m \u001b[0;34m=\u001b[0m \u001b[0madapter\u001b[0m\u001b[0;34m.\u001b[0m\u001b[0msend\u001b[0m\u001b[0;34m(\u001b[0m\u001b[0mrequest\u001b[0m\u001b[0;34m,\u001b[0m \u001b[0;34m**\u001b[0m\u001b[0mkwargs\u001b[0m\u001b[0;34m)\u001b[0m\u001b[0;34m\u001b[0m\u001b[0;34m\u001b[0m\u001b[0m\n\u001b[0m\u001b[1;32m    704\u001b[0m \u001b[0;34m\u001b[0m\u001b[0m\n\u001b[1;32m    705\u001b[0m         \u001b[0;31m# Total elapsed time of the request (approximately)\u001b[0m\u001b[0;34m\u001b[0m\u001b[0;34m\u001b[0m\u001b[0m\n",
            "\u001b[0;32m/usr/local/lib/python3.10/dist-packages/requests/adapters.py\u001b[0m in \u001b[0;36msend\u001b[0;34m(self, request, stream, timeout, verify, cert, proxies)\u001b[0m\n\u001b[1;32m    484\u001b[0m \u001b[0;34m\u001b[0m\u001b[0m\n\u001b[1;32m    485\u001b[0m         \u001b[0;32mtry\u001b[0m\u001b[0;34m:\u001b[0m\u001b[0;34m\u001b[0m\u001b[0;34m\u001b[0m\u001b[0m\n\u001b[0;32m--> 486\u001b[0;31m             resp = conn.urlopen(\n\u001b[0m\u001b[1;32m    487\u001b[0m                 \u001b[0mmethod\u001b[0m\u001b[0;34m=\u001b[0m\u001b[0mrequest\u001b[0m\u001b[0;34m.\u001b[0m\u001b[0mmethod\u001b[0m\u001b[0;34m,\u001b[0m\u001b[0;34m\u001b[0m\u001b[0;34m\u001b[0m\u001b[0m\n\u001b[1;32m    488\u001b[0m                 \u001b[0murl\u001b[0m\u001b[0;34m=\u001b[0m\u001b[0murl\u001b[0m\u001b[0;34m,\u001b[0m\u001b[0;34m\u001b[0m\u001b[0;34m\u001b[0m\u001b[0m\n",
            "\u001b[0;32m/usr/local/lib/python3.10/dist-packages/urllib3/connectionpool.py\u001b[0m in \u001b[0;36murlopen\u001b[0;34m(self, method, url, body, headers, retries, redirect, assert_same_host, timeout, pool_timeout, release_conn, chunked, body_pos, preload_content, decode_content, **response_kw)\u001b[0m\n\u001b[1;32m    789\u001b[0m \u001b[0;34m\u001b[0m\u001b[0m\n\u001b[1;32m    790\u001b[0m             \u001b[0;31m# Make the request on the HTTPConnection object\u001b[0m\u001b[0;34m\u001b[0m\u001b[0;34m\u001b[0m\u001b[0m\n\u001b[0;32m--> 791\u001b[0;31m             response = self._make_request(\n\u001b[0m\u001b[1;32m    792\u001b[0m                 \u001b[0mconn\u001b[0m\u001b[0;34m,\u001b[0m\u001b[0;34m\u001b[0m\u001b[0;34m\u001b[0m\u001b[0m\n\u001b[1;32m    793\u001b[0m                 \u001b[0mmethod\u001b[0m\u001b[0;34m,\u001b[0m\u001b[0;34m\u001b[0m\u001b[0;34m\u001b[0m\u001b[0m\n",
            "\u001b[0;32m/usr/local/lib/python3.10/dist-packages/urllib3/connectionpool.py\u001b[0m in \u001b[0;36m_make_request\u001b[0;34m(self, conn, method, url, body, headers, retries, timeout, chunked, response_conn, preload_content, decode_content, enforce_content_length)\u001b[0m\n\u001b[1;32m    535\u001b[0m         \u001b[0;31m# Receive the response from the server\u001b[0m\u001b[0;34m\u001b[0m\u001b[0;34m\u001b[0m\u001b[0m\n\u001b[1;32m    536\u001b[0m         \u001b[0;32mtry\u001b[0m\u001b[0;34m:\u001b[0m\u001b[0;34m\u001b[0m\u001b[0;34m\u001b[0m\u001b[0m\n\u001b[0;32m--> 537\u001b[0;31m             \u001b[0mresponse\u001b[0m \u001b[0;34m=\u001b[0m \u001b[0mconn\u001b[0m\u001b[0;34m.\u001b[0m\u001b[0mgetresponse\u001b[0m\u001b[0;34m(\u001b[0m\u001b[0;34m)\u001b[0m\u001b[0;34m\u001b[0m\u001b[0;34m\u001b[0m\u001b[0m\n\u001b[0m\u001b[1;32m    538\u001b[0m         \u001b[0;32mexcept\u001b[0m \u001b[0;34m(\u001b[0m\u001b[0mBaseSSLError\u001b[0m\u001b[0;34m,\u001b[0m \u001b[0mOSError\u001b[0m\u001b[0;34m)\u001b[0m \u001b[0;32mas\u001b[0m \u001b[0me\u001b[0m\u001b[0;34m:\u001b[0m\u001b[0;34m\u001b[0m\u001b[0;34m\u001b[0m\u001b[0m\n\u001b[1;32m    539\u001b[0m             \u001b[0mself\u001b[0m\u001b[0;34m.\u001b[0m\u001b[0m_raise_timeout\u001b[0m\u001b[0;34m(\u001b[0m\u001b[0merr\u001b[0m\u001b[0;34m=\u001b[0m\u001b[0me\u001b[0m\u001b[0;34m,\u001b[0m \u001b[0murl\u001b[0m\u001b[0;34m=\u001b[0m\u001b[0murl\u001b[0m\u001b[0;34m,\u001b[0m \u001b[0mtimeout_value\u001b[0m\u001b[0;34m=\u001b[0m\u001b[0mread_timeout\u001b[0m\u001b[0;34m)\u001b[0m\u001b[0;34m\u001b[0m\u001b[0;34m\u001b[0m\u001b[0m\n",
            "\u001b[0;32m/usr/local/lib/python3.10/dist-packages/urllib3/connection.py\u001b[0m in \u001b[0;36mgetresponse\u001b[0;34m(self)\u001b[0m\n\u001b[1;32m    459\u001b[0m \u001b[0;34m\u001b[0m\u001b[0m\n\u001b[1;32m    460\u001b[0m         \u001b[0;31m# Get the response from http.client.HTTPConnection\u001b[0m\u001b[0;34m\u001b[0m\u001b[0;34m\u001b[0m\u001b[0m\n\u001b[0;32m--> 461\u001b[0;31m         \u001b[0mhttplib_response\u001b[0m \u001b[0;34m=\u001b[0m \u001b[0msuper\u001b[0m\u001b[0;34m(\u001b[0m\u001b[0;34m)\u001b[0m\u001b[0;34m.\u001b[0m\u001b[0mgetresponse\u001b[0m\u001b[0;34m(\u001b[0m\u001b[0;34m)\u001b[0m\u001b[0;34m\u001b[0m\u001b[0;34m\u001b[0m\u001b[0m\n\u001b[0m\u001b[1;32m    462\u001b[0m \u001b[0;34m\u001b[0m\u001b[0m\n\u001b[1;32m    463\u001b[0m         \u001b[0;32mtry\u001b[0m\u001b[0;34m:\u001b[0m\u001b[0;34m\u001b[0m\u001b[0;34m\u001b[0m\u001b[0m\n",
            "\u001b[0;32m/usr/lib/python3.10/http/client.py\u001b[0m in \u001b[0;36mgetresponse\u001b[0;34m(self)\u001b[0m\n\u001b[1;32m   1373\u001b[0m         \u001b[0;32mtry\u001b[0m\u001b[0;34m:\u001b[0m\u001b[0;34m\u001b[0m\u001b[0;34m\u001b[0m\u001b[0m\n\u001b[1;32m   1374\u001b[0m             \u001b[0;32mtry\u001b[0m\u001b[0;34m:\u001b[0m\u001b[0;34m\u001b[0m\u001b[0;34m\u001b[0m\u001b[0m\n\u001b[0;32m-> 1375\u001b[0;31m                 \u001b[0mresponse\u001b[0m\u001b[0;34m.\u001b[0m\u001b[0mbegin\u001b[0m\u001b[0;34m(\u001b[0m\u001b[0;34m)\u001b[0m\u001b[0;34m\u001b[0m\u001b[0;34m\u001b[0m\u001b[0m\n\u001b[0m\u001b[1;32m   1376\u001b[0m             \u001b[0;32mexcept\u001b[0m \u001b[0mConnectionError\u001b[0m\u001b[0;34m:\u001b[0m\u001b[0;34m\u001b[0m\u001b[0;34m\u001b[0m\u001b[0m\n\u001b[1;32m   1377\u001b[0m                 \u001b[0mself\u001b[0m\u001b[0;34m.\u001b[0m\u001b[0mclose\u001b[0m\u001b[0;34m(\u001b[0m\u001b[0;34m)\u001b[0m\u001b[0;34m\u001b[0m\u001b[0;34m\u001b[0m\u001b[0m\n",
            "\u001b[0;32m/usr/lib/python3.10/http/client.py\u001b[0m in \u001b[0;36mbegin\u001b[0;34m(self)\u001b[0m\n\u001b[1;32m    316\u001b[0m         \u001b[0;31m# read until we get a non-100 response\u001b[0m\u001b[0;34m\u001b[0m\u001b[0;34m\u001b[0m\u001b[0m\n\u001b[1;32m    317\u001b[0m         \u001b[0;32mwhile\u001b[0m \u001b[0;32mTrue\u001b[0m\u001b[0;34m:\u001b[0m\u001b[0;34m\u001b[0m\u001b[0;34m\u001b[0m\u001b[0m\n\u001b[0;32m--> 318\u001b[0;31m             \u001b[0mversion\u001b[0m\u001b[0;34m,\u001b[0m \u001b[0mstatus\u001b[0m\u001b[0;34m,\u001b[0m \u001b[0mreason\u001b[0m \u001b[0;34m=\u001b[0m \u001b[0mself\u001b[0m\u001b[0;34m.\u001b[0m\u001b[0m_read_status\u001b[0m\u001b[0;34m(\u001b[0m\u001b[0;34m)\u001b[0m\u001b[0;34m\u001b[0m\u001b[0;34m\u001b[0m\u001b[0m\n\u001b[0m\u001b[1;32m    319\u001b[0m             \u001b[0;32mif\u001b[0m \u001b[0mstatus\u001b[0m \u001b[0;34m!=\u001b[0m \u001b[0mCONTINUE\u001b[0m\u001b[0;34m:\u001b[0m\u001b[0;34m\u001b[0m\u001b[0;34m\u001b[0m\u001b[0m\n\u001b[1;32m    320\u001b[0m                 \u001b[0;32mbreak\u001b[0m\u001b[0;34m\u001b[0m\u001b[0;34m\u001b[0m\u001b[0m\n",
            "\u001b[0;32m/usr/lib/python3.10/http/client.py\u001b[0m in \u001b[0;36m_read_status\u001b[0;34m(self)\u001b[0m\n\u001b[1;32m    277\u001b[0m \u001b[0;34m\u001b[0m\u001b[0m\n\u001b[1;32m    278\u001b[0m     \u001b[0;32mdef\u001b[0m \u001b[0m_read_status\u001b[0m\u001b[0;34m(\u001b[0m\u001b[0mself\u001b[0m\u001b[0;34m)\u001b[0m\u001b[0;34m:\u001b[0m\u001b[0;34m\u001b[0m\u001b[0;34m\u001b[0m\u001b[0m\n\u001b[0;32m--> 279\u001b[0;31m         \u001b[0mline\u001b[0m \u001b[0;34m=\u001b[0m \u001b[0mstr\u001b[0m\u001b[0;34m(\u001b[0m\u001b[0mself\u001b[0m\u001b[0;34m.\u001b[0m\u001b[0mfp\u001b[0m\u001b[0;34m.\u001b[0m\u001b[0mreadline\u001b[0m\u001b[0;34m(\u001b[0m\u001b[0m_MAXLINE\u001b[0m \u001b[0;34m+\u001b[0m \u001b[0;36m1\u001b[0m\u001b[0;34m)\u001b[0m\u001b[0;34m,\u001b[0m \u001b[0;34m\"iso-8859-1\"\u001b[0m\u001b[0;34m)\u001b[0m\u001b[0;34m\u001b[0m\u001b[0;34m\u001b[0m\u001b[0m\n\u001b[0m\u001b[1;32m    280\u001b[0m         \u001b[0;32mif\u001b[0m \u001b[0mlen\u001b[0m\u001b[0;34m(\u001b[0m\u001b[0mline\u001b[0m\u001b[0;34m)\u001b[0m \u001b[0;34m>\u001b[0m \u001b[0m_MAXLINE\u001b[0m\u001b[0;34m:\u001b[0m\u001b[0;34m\u001b[0m\u001b[0;34m\u001b[0m\u001b[0m\n\u001b[1;32m    281\u001b[0m             \u001b[0;32mraise\u001b[0m \u001b[0mLineTooLong\u001b[0m\u001b[0;34m(\u001b[0m\u001b[0;34m\"status line\"\u001b[0m\u001b[0;34m)\u001b[0m\u001b[0;34m\u001b[0m\u001b[0;34m\u001b[0m\u001b[0m\n",
            "\u001b[0;32m/usr/lib/python3.10/socket.py\u001b[0m in \u001b[0;36mreadinto\u001b[0;34m(self, b)\u001b[0m\n\u001b[1;32m    703\u001b[0m         \u001b[0;32mwhile\u001b[0m \u001b[0;32mTrue\u001b[0m\u001b[0;34m:\u001b[0m\u001b[0;34m\u001b[0m\u001b[0;34m\u001b[0m\u001b[0m\n\u001b[1;32m    704\u001b[0m             \u001b[0;32mtry\u001b[0m\u001b[0;34m:\u001b[0m\u001b[0;34m\u001b[0m\u001b[0;34m\u001b[0m\u001b[0m\n\u001b[0;32m--> 705\u001b[0;31m                 \u001b[0;32mreturn\u001b[0m \u001b[0mself\u001b[0m\u001b[0;34m.\u001b[0m\u001b[0m_sock\u001b[0m\u001b[0;34m.\u001b[0m\u001b[0mrecv_into\u001b[0m\u001b[0;34m(\u001b[0m\u001b[0mb\u001b[0m\u001b[0;34m)\u001b[0m\u001b[0;34m\u001b[0m\u001b[0;34m\u001b[0m\u001b[0m\n\u001b[0m\u001b[1;32m    706\u001b[0m             \u001b[0;32mexcept\u001b[0m \u001b[0mtimeout\u001b[0m\u001b[0;34m:\u001b[0m\u001b[0;34m\u001b[0m\u001b[0;34m\u001b[0m\u001b[0m\n\u001b[1;32m    707\u001b[0m                 \u001b[0mself\u001b[0m\u001b[0;34m.\u001b[0m\u001b[0m_timeout_occurred\u001b[0m \u001b[0;34m=\u001b[0m \u001b[0;32mTrue\u001b[0m\u001b[0;34m\u001b[0m\u001b[0;34m\u001b[0m\u001b[0m\n",
            "\u001b[0;31mKeyboardInterrupt\u001b[0m: "
          ]
        }
      ],
      "source": [
        "#tempos de deslocamentos de tecnicos para cada pedidos\n",
        "import requests\n",
        "import numpy as np\n",
        "\n",
        "num_rows = len(df_tecnicos)\n",
        "num_cols = len(df_pedidos)\n",
        "matriz_numeros_aleatorios = np.random.rand(num_rows, num_cols)\n",
        "\n",
        "url = 'http://router.project-osrm.org/route/v1/driving/'\n",
        "\n",
        "for i, setor in enumerate(df_pedidos['setor'].unique()):\n",
        "    for j, pedido in enumerate(df_pedidos.query(f\"setor == '{setor}'\")):\n",
        "        for k, tecnico in enumerate(df_tecnicos['Nome']):\n",
        "          matriz_numeros_aleatorios[k, j] = haversine_distance((float(df_tecnicos.iloc[k].Latitude.replace(',', '.')), float(df_tecnicos.iloc[k].Longitude.replace(',', '.'))), (df_pedidos.iloc[j].latitude, df_pedidos.iloc[j].longitude))\n",
        "\n",
        "          coordinates = f\"{df_tecnicos.iloc[k].Longitude.replace(',', '.')},{df_tecnicos.iloc[k].Latitude.replace(',', '.')};{df_tecnicos.iloc[j].Longitude.replace(',', '.')},{df_tecnicos.iloc[j].Latitude.replace(',', '.')}\"\n",
        "\n",
        "          full_url = f'{url}{coordinates}'\n",
        "          response = requests.get(full_url)\n",
        "\n",
        "          if response.status_code == 200:\n",
        "              data = response.json()\n",
        "              matriz_numeros_aleatorios[k, j] = float(data['routes'][0]['legs'][0]['duration'])\n",
        "              print(float(data['routes'][0]['legs'][0]['duration']))\n",
        "          else:\n",
        "              matriz_numeros_aleatorios[k, j] = haversine_distance((float(df_tecnicos.iloc[k].Latitude.replace(',', '.')), float(df_tecnicos.iloc[k].Longitude.replace(',', '.'))), (df_pedidos.iloc[j].latitude, df_pedidos.iloc[j].longitude))\n",
        "\n",
        "df_resultado = pd.DataFrame(matriz_numeros_aleatorios, index=df_tecnicos['Nome'], columns=df_pedidos['id_venda'])\n",
        "df_resultado"
      ]
    },
    {
      "cell_type": "code",
      "execution_count": null,
      "metadata": {
        "colab": {
          "base_uri": "https://localhost:8080/"
        },
        "id": "9HBu01Fo-_MW",
        "outputId": "08209610-aa3b-435f-d65c-032156ccaeb0"
      },
      "outputs": [
        {
          "data": {
            "text/plain": [
              "array([9.86360389e+00, 7.97151369e+00, 4.11881510e+03, 2.71060404e+00,\n",
              "       3.41215977e-01, 4.88108427e-02, 9.50527938e-01, 3.32159406e-01,\n",
              "       2.72001196e-01, 3.24769017e-01, 2.91276968e-01, 3.01909436e-01,\n",
              "       3.12384732e-01, 4.33980678e-01, 2.33079267e-01, 4.56123094e-01,\n",
              "       8.45566394e-01, 3.27783549e-01, 6.50725805e-01, 2.68263489e-01,\n",
              "       6.19665479e-01, 8.37303288e-01, 8.78418659e-01, 9.38430049e-01,\n",
              "       6.23607340e-01, 1.87156451e-01, 1.06199370e-02, 3.30573203e-01,\n",
              "       8.93847914e-02, 1.25678018e-01, 7.08680164e-02, 7.73450543e-01,\n",
              "       6.45419282e-02, 9.11424146e-01, 7.61320200e-01, 7.57123388e-01,\n",
              "       1.23033240e-01, 1.59713377e-02, 9.03751723e-01, 3.51118146e-01,\n",
              "       5.47405865e-01, 1.39313255e-01, 6.30747783e-01, 2.13864413e-01,\n",
              "       8.35008295e-01, 8.49136712e-01, 8.27518618e-01, 7.77423032e-01,\n",
              "       7.01892640e-01, 6.43274010e-01, 7.44214207e-01, 2.77142295e-01,\n",
              "       3.31102618e-01, 4.97861563e-01, 1.69267576e-01, 7.50972018e-01,\n",
              "       4.81270990e-01, 3.89964121e-01, 1.96518206e-01, 9.76408072e-01,\n",
              "       5.39631204e-01, 8.67353747e-01, 2.95889511e-01, 2.23982334e-01,\n",
              "       5.53606944e-01, 1.54461470e-02, 8.56098690e-01, 2.95320520e-01,\n",
              "       1.38625698e-01, 1.87277003e-01, 3.36274241e-01, 1.97090281e-01,\n",
              "       9.49948073e-02, 7.53500658e-01, 2.38288778e-01, 6.78723350e-01,\n",
              "       5.62681622e-01, 8.29157429e-01, 5.58515059e-01, 3.94892326e-01,\n",
              "       1.03369777e-01, 3.67687937e-02, 7.09243657e-01, 9.47717984e-01,\n",
              "       8.79835751e-01, 6.09974195e-01, 9.49807073e-01, 7.87616551e-01,\n",
              "       7.94024030e-01, 1.62795970e-01, 8.63309153e-01, 1.32065909e-01,\n",
              "       9.75898844e-01, 7.14177457e-01, 1.43786787e-01, 3.29725756e-01,\n",
              "       2.53786777e-01, 8.44249172e-01, 2.31968362e-01, 6.95351264e-01,\n",
              "       1.34928539e-01, 1.76295556e-01, 6.37700399e-01, 4.45292458e-01,\n",
              "       3.94654412e-01, 2.52880107e-02, 3.36400198e-01, 4.73683914e-01,\n",
              "       4.56738786e-01, 5.93267013e-01, 4.78615117e-01, 9.66463961e-01,\n",
              "       3.07998379e-01, 6.80543931e-01, 1.21201124e-01, 7.17071591e-01,\n",
              "       7.07897101e-01, 7.05132508e-01, 5.48603774e-01, 7.70655950e-01,\n",
              "       3.30666805e-01, 9.27533601e-01, 2.48714744e-03, 7.73726667e-01,\n",
              "       4.69437075e-04, 7.15813562e-01, 1.87746380e-01, 7.43668624e-01,\n",
              "       1.45811405e-01, 6.52286923e-01, 1.72429559e-01, 4.30281890e-01,\n",
              "       7.62264697e-01, 4.09164769e-01, 1.57941000e-01, 7.71951466e-01,\n",
              "       8.97125905e-01, 6.63681555e-01, 2.52336888e-01, 5.68529907e-01,\n",
              "       5.35671773e-01, 1.93545522e-01, 3.96167582e-01, 1.84626483e-01,\n",
              "       2.62100571e-01, 7.61263783e-01, 8.35139647e-01, 9.80913393e-03,\n",
              "       6.20174937e-01, 1.90475756e-01, 5.28040820e-02, 8.82332573e-01,\n",
              "       3.03527718e-01, 6.35942372e-01, 3.55976891e-01, 6.19789468e-02,\n",
              "       2.75138243e-01, 7.99702360e-01, 1.58513701e-01, 7.06609290e-01,\n",
              "       9.95758514e-01, 6.23823490e-02, 5.86035683e-01, 3.75765680e-01,\n",
              "       3.94357273e-01, 5.94704219e-01, 2.73294652e-01, 3.56599423e-01,\n",
              "       3.84478589e-01, 8.70077733e-02, 2.39664208e-01, 3.75789185e-01,\n",
              "       4.26759431e-01, 1.44621730e-02, 6.14448941e-01, 5.19056874e-01,\n",
              "       4.93054153e-01, 7.83621690e-01, 9.35381206e-01, 7.01547005e-01,\n",
              "       8.74746546e-01, 6.96965876e-01, 1.95180636e-01, 7.25481070e-01,\n",
              "       3.38757485e-01, 5.83296246e-01, 9.46163622e-01, 8.99369110e-01,\n",
              "       2.60051636e-01, 5.49828435e-01, 2.64217174e-01, 6.93908975e-01,\n",
              "       7.68844727e-01, 5.49333527e-01, 5.13882880e-01, 9.55013990e-02,\n",
              "       3.99547385e-01, 4.57393233e-01, 4.12250397e-01, 9.47169989e-01,\n",
              "       6.92370754e-01, 8.71296815e-01, 6.51246993e-01, 7.08635316e-01,\n",
              "       5.48616366e-01, 1.89410107e-01, 1.00964535e-01, 8.73593490e-01,\n",
              "       2.33274359e-01, 7.16490403e-01, 4.17467453e-01, 7.51869508e-01,\n",
              "       8.88045783e-01, 8.81216336e-02, 6.40115877e-02, 8.29188775e-01,\n",
              "       1.31102876e-01, 3.97885470e-01, 9.46429749e-02, 2.66510038e-01,\n",
              "       9.57819160e-02, 9.41343342e-01, 7.28696567e-01, 7.97226210e-01,\n",
              "       9.32554747e-01, 8.93418516e-01, 5.31019337e-01, 5.97927810e-01,\n",
              "       3.81878653e-01, 4.81695740e-01, 5.31583560e-01, 4.65084408e-01,\n",
              "       9.20761148e-01, 7.00711077e-01, 2.93778218e-01, 8.12821787e-01,\n",
              "       5.15908253e-01, 5.84850897e-01, 6.57922503e-01, 7.63665577e-01,\n",
              "       4.32817566e-01, 6.51115608e-01, 1.33809333e-01, 3.57543786e-01,\n",
              "       1.89830408e-01, 7.49379898e-02, 9.78262304e-02, 8.45831463e-01,\n",
              "       3.03575710e-01, 7.54842620e-01, 9.98482741e-01, 4.10519107e-01,\n",
              "       2.96943843e-01, 9.46611570e-01, 7.66512778e-01, 7.73085012e-01,\n",
              "       5.20214603e-01, 4.67676877e-01, 4.79256936e-01, 4.40197966e-02,\n",
              "       8.94734881e-01, 7.13171355e-01, 7.73980646e-01, 7.98930432e-01,\n",
              "       7.45071784e-01, 4.91828420e-01, 1.61968407e-01, 2.83379292e-01,\n",
              "       9.28535704e-01, 4.83669399e-01, 2.81524242e-01, 3.72081767e-01,\n",
              "       1.76597451e-01, 2.06726285e-01, 9.87054436e-01, 2.64725291e-02,\n",
              "       9.72201220e-01, 1.32216090e-01, 4.75963466e-01, 9.78592262e-01,\n",
              "       3.96926160e-01, 1.12754561e-01, 7.14679110e-01, 8.79593257e-02,\n",
              "       8.64010515e-02, 7.76301870e-01, 2.48662093e-01, 2.94298867e-01,\n",
              "       1.20167079e-01, 2.85010528e-01, 7.59147749e-01, 8.34349175e-01,\n",
              "       8.74385362e-01, 3.13643227e-01, 1.63222736e-01, 8.60091684e-01,\n",
              "       4.92685527e-02, 2.96831848e-01, 8.61159049e-01, 1.91564891e-01,\n",
              "       7.37954753e-02, 8.19583080e-01, 5.20931533e-01, 5.48454140e-01,\n",
              "       8.53972439e-01, 5.12258159e-01, 6.88171282e-01, 3.13385665e-01,\n",
              "       4.91965265e-01, 4.25946350e-01, 8.40868749e-01, 8.78765250e-01,\n",
              "       6.93509148e-01, 2.48043175e-01, 5.22102278e-01, 1.01198265e-01,\n",
              "       6.28235749e-01, 7.31402002e-01, 8.49570758e-01, 3.45569222e-01,\n",
              "       7.23715832e-01, 9.57884815e-01, 8.10011306e-02, 6.15691312e-01,\n",
              "       7.52114051e-01, 6.25352602e-01, 4.71120639e-01, 9.58445639e-01,\n",
              "       7.56702003e-01, 3.32875509e-01, 1.05674280e-01, 3.69067848e-01,\n",
              "       2.35643484e-01, 9.17291583e-01, 5.67578098e-01, 1.81201006e-01,\n",
              "       4.77363304e-01, 3.84825522e-01, 2.19938883e-01, 8.28594772e-01,\n",
              "       7.25109261e-02, 3.69294637e-01, 5.12878182e-01, 3.80904729e-01,\n",
              "       2.19775001e-01, 9.60218085e-01, 5.50379827e-01, 8.96479623e-01,\n",
              "       9.07059352e-01, 7.92317951e-01, 7.56131801e-01, 1.77796875e-01,\n",
              "       9.53517019e-03, 7.71751084e-01, 8.64502794e-01, 7.03152606e-01,\n",
              "       7.16183531e-01, 8.51991884e-01, 8.38472238e-01, 7.07368509e-01,\n",
              "       1.62042188e-01, 5.89045611e-01, 3.53317341e-02, 9.09139981e-01,\n",
              "       5.12900787e-01, 6.13274168e-01, 2.72474057e-02, 1.86644540e-01])"
            ]
          },
          "execution_count": 21,
          "metadata": {},
          "output_type": "execute_result"
        }
      ],
      "source": []
    }
  ],
  "metadata": {
    "colab": {
      "provenance": []
    },
    "kernelspec": {
      "display_name": "Python 3",
      "name": "python3"
    },
    "language_info": {
      "name": "python"
    }
  },
  "nbformat": 4,
  "nbformat_minor": 0
}
